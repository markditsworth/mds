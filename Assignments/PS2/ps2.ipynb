{
 "cells": [
  {
   "cell_type": "code",
   "execution_count": 93,
   "metadata": {},
   "outputs": [],
   "source": [
    "import numpy as np\n",
    "import matplotlib.pyplot as plt\n",
    "from tqdm import tqdm_notebook as progress"
   ]
  },
  {
   "cell_type": "code",
   "execution_count": 94,
   "metadata": {},
   "outputs": [],
   "source": [
    "def directcalc(M,i,v_plus,v_null,limit=20):\n",
    "    s=0\n",
    "    ks = np.arange(limit)\n",
    "    sums = np.empty(limit)\n",
    "    for k in progress(ks):\n",
    "        pwr_term = np.dot(M,np.dot(v_null,v_null.T))\n",
    "        pwr = np.linalg.matrix_power(pwr_term,k)\n",
    "        sums[k] = np.dot(i,np.dot(pwr,np.dot(M,v_plus)))\n",
    "    \n",
    "    return ks, np.cumsum(sums)"
   ]
  },
  {
   "cell_type": "code",
   "execution_count": 95,
   "metadata": {},
   "outputs": [],
   "source": [
    "def getRandomM(N=100):\n",
    "    m1 = (np.random.random((N,N)) < 0.5).astype(np.float64)\n",
    "    M_ = np.triu(m1,1)\n",
    "    M_ = M_ + M_.T\n",
    "    M = np.dot(np.diag(np.divide(1,np.sum(M_,axis=1))),M_)\n",
    "    selection_M = np.cumsum(M,axis=1)\n",
    "    return M, selection_M"
   ]
  },
  {
   "cell_type": "code",
   "execution_count": 96,
   "metadata": {},
   "outputs": [],
   "source": [
    "def defineParitions(N=100):\n",
    "    p1_limit = int(N/3)\n",
    "    p2_limit = p1_limit * 2\n",
    "    partitions = np.zeros(N)\n",
    "    partitions[p1_limit:p2_limit] = 1\n",
    "    partitions[p2_limit:] = 2\n",
    "    return partitions"
   ]
  },
  {
   "cell_type": "code",
   "execution_count": 97,
   "metadata": {},
   "outputs": [],
   "source": [
    "def getNewPosition(i,selection_M):\n",
    "    r = np.random.random()\n",
    "    choices = selection_M[i,:]\n",
    "    j = np.where(choices > r)[0][0]\n",
    "    return j"
   ]
  },
  {
   "cell_type": "code",
   "execution_count": 98,
   "metadata": {},
   "outputs": [],
   "source": [
    "def montecarlo(selection_M,partition):\n",
    "    trials = 10000\n",
    "    success = 0.0\n",
    "    failure = 0.0\n",
    "    \n",
    "    for x in progress(range(trials)):\n",
    "        i=0\n",
    "        while partition[i] == 0:\n",
    "            i = getNewPosition(i,selection_M)\n",
    "        if partition[i] == 1:\n",
    "            failure = failure + 1\n",
    "        else:\n",
    "            success = success + 1\n",
    "    return success/trials, failure/trials"
   ]
  },
  {
   "cell_type": "code",
   "execution_count": 108,
   "metadata": {},
   "outputs": [],
   "source": [
    "def compare():\n",
    "    partitions= defineParitions(N=10)\n",
    "    v_null = (partitions == 0).astype(int).reshape(len(partitions),1)\n",
    "    v_plus = (partitions == 2).astype(int).reshape(len(partitions),1)\n",
    "    i = np.zeros(len(partitions))\n",
    "    i[0] = 1\n",
    "    \n",
    "    M, selection_M = getRandomM(N=10)\n",
    "    \n",
    "    _,direct_prob = directcalc(M,i,v_plus,v_null,limit=80)\n",
    "    mc_success,_ = montecarlo(selection_M,partitions)\n",
    "    return direct_prob, mc_success"
   ]
  },
  {
   "cell_type": "code",
   "execution_count": 115,
   "metadata": {},
   "outputs": [
    {
     "data": {
      "application/vnd.jupyter.widget-view+json": {
       "model_id": "ffc3e5c7b1cf4867824074bc50b94b98",
       "version_major": 2,
       "version_minor": 0
      },
      "text/plain": [
       "HBox(children=(IntProgress(value=0, max=80), HTML(value='')))"
      ]
     },
     "metadata": {},
     "output_type": "display_data"
    },
    {
     "name": "stdout",
     "output_type": "stream",
     "text": [
      "\n"
     ]
    },
    {
     "data": {
      "application/vnd.jupyter.widget-view+json": {
       "model_id": "ed23b263295e408a91edeebf4a7eb860",
       "version_major": 2,
       "version_minor": 0
      },
      "text/plain": [
       "HBox(children=(IntProgress(value=0, max=10000), HTML(value='')))"
      ]
     },
     "metadata": {},
     "output_type": "display_data"
    },
    {
     "name": "stdout",
     "output_type": "stream",
     "text": [
      "\n"
     ]
    },
    {
     "data": {
      "image/png": "[encoded data removed]",
      "text/plain": [
       "<Figure size 432x288 with 1 Axes>"
      ]
     },
     "metadata": {
      "needs_background": "light"
     },
     "output_type": "display_data"
    },
    {
     "name": "stdout",
     "output_type": "stream",
     "text": [
      "0.5\n",
      "0.5093\n"
     ]
    }
   ],
   "source": [
    "direct_prob, mc_success = compare()\n",
    "plt.plot(direct_prob)\n",
    "plt.show()\n",
    "print(direct_prob[-1])\n",
    "print(mc_success)"
   ]
  },
  {
   "cell_type": "code",
   "execution_count": null,
   "metadata": {},
   "outputs": [],
   "source": []
  },
  {
   "cell_type": "code",
   "execution_count": null,
   "metadata": {},
   "outputs": [],
   "source": []
  }
 ],
 "metadata": {
  "kernelspec": {
   "display_name": "Python 3",
   "language": "python",
   "name": "python3"
  },
  "language_info": {
   "codemirror_mode": {
    "name": "ipython",
    "version": 3
   },
   "file_extension": ".py",
   "mimetype": "text/x-python",
   "name": "python",
   "nbconvert_exporter": "python",
   "pygments_lexer": "ipython3",
   "version": "3.7.3"
  }
 },
 "nbformat": 4,
 "nbformat_minor": 2
}
